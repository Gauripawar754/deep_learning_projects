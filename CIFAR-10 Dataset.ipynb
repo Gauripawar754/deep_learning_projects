{
 "cells": [
  {
   "cell_type": "code",
   "execution_count": 1,
   "id": "00e607ce-ce29-42b1-bce9-3304b10d3720",
   "metadata": {},
   "outputs": [],
   "source": [
    "import matplotlib.pyplot as plt\n",
    "import numpy as np\n",
    "import seaborn as sns\n",
    "\n",
    "import tensorflow as tf\n",
    "from tensorflow.keras import datasets,layers,models\n",
    "from keras.layers import BatchNormalization\n",
    "from keras.callbacks import EarlyStopping \n",
    "from keras.regularizers import L2"
   ]
  },
  {
   "cell_type": "code",
   "execution_count": 2,
   "id": "6695e7eb-465a-40ed-a8bc-ba7e171d6dad",
   "metadata": {},
   "outputs": [],
   "source": [
    "(x_train,y_train),(x_test,y_test) = datasets.cifar10.load_data()"
   ]
  },
  {
   "cell_type": "markdown",
   "id": "f2d45762-cfb7-4f34-b0a1-75667172d730",
   "metadata": {},
   "source": [
    "# EDA"
   ]
  },
  {
   "cell_type": "code",
   "execution_count": 3,
   "id": "e04879bf-2e26-495d-9830-596cfc2da82a",
   "metadata": {},
   "outputs": [
    {
     "data": {
      "text/plain": [
       "(50000, 32, 32, 3)"
      ]
     },
     "execution_count": 3,
     "metadata": {},
     "output_type": "execute_result"
    }
   ],
   "source": [
    "x_train.shape"
   ]
  },
  {
   "cell_type": "code",
   "execution_count": 4,
   "id": "9ac9b135-3efc-4a7d-8fe9-9462c0b048bc",
   "metadata": {},
   "outputs": [
    {
     "data": {
      "text/plain": [
       "array([[[ 59,  62,  63],\n",
       "        [ 43,  46,  45],\n",
       "        [ 50,  48,  43],\n",
       "        ...,\n",
       "        [158, 132, 108],\n",
       "        [152, 125, 102],\n",
       "        [148, 124, 103]],\n",
       "\n",
       "       [[ 16,  20,  20],\n",
       "        [  0,   0,   0],\n",
       "        [ 18,   8,   0],\n",
       "        ...,\n",
       "        [123,  88,  55],\n",
       "        [119,  83,  50],\n",
       "        [122,  87,  57]],\n",
       "\n",
       "       [[ 25,  24,  21],\n",
       "        [ 16,   7,   0],\n",
       "        [ 49,  27,   8],\n",
       "        ...,\n",
       "        [118,  84,  50],\n",
       "        [120,  84,  50],\n",
       "        [109,  73,  42]],\n",
       "\n",
       "       ...,\n",
       "\n",
       "       [[208, 170,  96],\n",
       "        [201, 153,  34],\n",
       "        [198, 161,  26],\n",
       "        ...,\n",
       "        [160, 133,  70],\n",
       "        [ 56,  31,   7],\n",
       "        [ 53,  34,  20]],\n",
       "\n",
       "       [[180, 139,  96],\n",
       "        [173, 123,  42],\n",
       "        [186, 144,  30],\n",
       "        ...,\n",
       "        [184, 148,  94],\n",
       "        [ 97,  62,  34],\n",
       "        [ 83,  53,  34]],\n",
       "\n",
       "       [[177, 144, 116],\n",
       "        [168, 129,  94],\n",
       "        [179, 142,  87],\n",
       "        ...,\n",
       "        [216, 184, 140],\n",
       "        [151, 118,  84],\n",
       "        [123,  92,  72]]], dtype=uint8)"
      ]
     },
     "execution_count": 4,
     "metadata": {},
     "output_type": "execute_result"
    }
   ],
   "source": [
    "x_train[0] "
   ]
  },
  {
   "cell_type": "code",
   "execution_count": 5,
   "id": "a4a57678-0a41-4e62-93a4-18362fae2da0",
   "metadata": {},
   "outputs": [
    {
     "data": {
      "text/plain": [
       "<matplotlib.image.AxesImage at 0x17599c0ecd0>"
      ]
     },
     "execution_count": 5,
     "metadata": {},
     "output_type": "execute_result"
    },
    {
     "data": {
      "image/png": "[encoded data removed]",
      "text/plain": [
       "<Figure size 480x480 with 1 Axes>"
      ]
     },
     "metadata": {},
     "output_type": "display_data"
    }
   ],
   "source": [
    "plt.matshow(x_train[4])"
   ]
  },
  {
   "cell_type": "code",
   "execution_count": 6,
   "id": "17d1536d-baa9-4c23-b8da-28e2390e130b",
   "metadata": {},
   "outputs": [
    {
     "data": {
      "text/plain": [
       "(10000, 32, 32, 3)"
      ]
     },
     "execution_count": 6,
     "metadata": {},
     "output_type": "execute_result"
    }
   ],
   "source": [
    "x_test.shape"
   ]
  },
  {
   "cell_type": "code",
   "execution_count": 7,
   "id": "6b9791dd-17e5-4fbd-993b-40c8fd55f401",
   "metadata": {},
   "outputs": [],
   "source": [
    "y = y_train.flatten()"
   ]
  },
  {
   "cell_type": "code",
   "execution_count": 8,
   "id": "5ba8d7ec-4192-407a-b480-cc4d26fc46fc",
   "metadata": {},
   "outputs": [
    {
     "data": {
      "text/plain": [
       "array([6, 9, 9, ..., 9, 1, 1], dtype=uint8)"
      ]
     },
     "execution_count": 8,
     "metadata": {},
     "output_type": "execute_result"
    }
   ],
   "source": [
    "y"
   ]
  },
  {
   "cell_type": "code",
   "execution_count": 9,
   "id": "db586401-019b-4feb-83be-b677d9fbb971",
   "metadata": {},
   "outputs": [],
   "source": [
    " def plot_sample(x,y,index):\n",
    "     plt.figure(figsize=(14,3))\n",
    "     plt.imshow(x[index])     "
   ]
  },
  {
   "cell_type": "code",
   "execution_count": 10,
   "id": "ce0d1e73-d39e-4d48-ba67-207116133885",
   "metadata": {},
   "outputs": [
    {
     "data": {
      "image/png": "[encoded data removed]",
      "text/plain": [
       "<Figure size 1400x300 with 1 Axes>"
      ]
     },
     "metadata": {},
     "output_type": "display_data"
    }
   ],
   "source": [
    "plot_sample(x_train,y_train,2)"
   ]
  },
  {
   "cell_type": "code",
   "execution_count": 11,
   "id": "ee65849a-33c3-4251-a17a-55d42d7d7299",
   "metadata": {},
   "outputs": [
    {
     "data": {
      "image/png": "[encoded data removed]",
      "text/plain": [
       "<Figure size 1400x300 with 1 Axes>"
      ]
     },
     "metadata": {},
     "output_type": "display_data"
    }
   ],
   "source": [
    "plot_sample(x_train,y_train,8)"
   ]
  },
  {
   "cell_type": "code",
   "execution_count": null,
   "id": "59f256e9-3d24-4f15-bb9e-d5056adfca0c",
   "metadata": {},
   "outputs": [],
   "source": []
  },
  {
   "cell_type": "markdown",
   "id": "45cdd8dc-a470-4f50-9416-29c6c2a05fb2",
   "metadata": {},
   "source": [
    "#  data scaling using numpy"
   ]
  },
  {
   "cell_type": "code",
   "execution_count": 12,
   "id": "fc7cfadf-bc4d-47e9-8952-aeab7320b863",
   "metadata": {},
   "outputs": [],
   "source": [
    "x_train = x_train / 255\n",
    "x_test = x_test /255"
   ]
  },
  {
   "cell_type": "code",
   "execution_count": null,
   "id": "cd68f4e4-370c-4961-8d9a-656410addb6d",
   "metadata": {},
   "outputs": [],
   "source": []
  },
  {
   "cell_type": "code",
   "execution_count": 13,
   "id": "88a01a49-03bb-4483-a82c-4c2535444e5d",
   "metadata": {},
   "outputs": [
    {
     "data": {
      "text/plain": [
       "3072"
      ]
     },
     "execution_count": 13,
     "metadata": {},
     "output_type": "execute_result"
    }
   ],
   "source": [
    "32 *32*3"
   ]
  },
  {
   "cell_type": "markdown",
   "id": "7484cd63-c7d3-483a-86ed-ce3c58c0b6b4",
   "metadata": {},
   "source": [
    "# Building simple neural network"
   ]
  },
  {
   "cell_type": "code",
   "execution_count": 14,
   "id": "47c628c6-86d1-4884-b2eb-932678963a36",
   "metadata": {},
   "outputs": [],
   "source": [
    "ann = models.Sequential( [\n",
    "    # input layer\n",
    "    layers.Flatten(input_shape=(32,32,3)),\n",
    "    # hidden layers\n",
    "    layers.Dense(3000, activation='relu'),\n",
    "    layers.Dense(2000,activation='relu'),\n",
    "\n",
    "    # output layer\n",
    "    layers.Dense(10,activation='softmax') ])\n",
    "\n",
    "\n",
    "\n",
    "ann.compile(loss='sparse_categorical_crossentropy', optimizer = 'SGD', metrics=['accuracy'])\n",
    "\n",
    "\n",
    "ann.fit(x_train,y_train,epochs=5, batch_size=300)"
   ]
  },
  {
   "cell_type": "code",
   "execution_count": 15,
   "id": "088f2335-5ae0-4b7a-ab3f-d01d2447b0ee",
   "metadata": {},
   "outputs": [],
   "source": [
    "ann.evaluate(x_test,y_test)"
   ]
  },
  {
   "cell_type": "code",
   "execution_count": 16,
   "id": "8966af2a-cd4f-45ae-b22a-153c14d50fc0",
   "metadata": {},
   "outputs": [],
   "source": [
    "ann.evaluate(x_train,y_train)"
   ]
  },
  {
   "cell_type": "code",
   "execution_count": null,
   "id": "20ba755c-d0a9-41b8-9fb9-c71407d981c2",
   "metadata": {},
   "outputs": [],
   "source": []
  },
  {
   "cell_type": "code",
   "execution_count": null,
   "id": "9ad0dc39-7665-4b90-b60e-14312b5a4070",
   "metadata": {},
   "outputs": [],
   "source": []
  },
  {
   "cell_type": "markdown",
   "id": "3046c671-9c37-4f74-a821-33f77e7ccb64",
   "metadata": {},
   "source": [
    "# Building  model using CNN"
   ]
  },
  {
   "cell_type": "code",
   "execution_count": 17,
   "id": "4b78f825-a5ef-42e1-8e72-b1dc897c09d6",
   "metadata": {},
   "outputs": [
    {
     "name": "stderr",
     "output_type": "stream",
     "text": [
      "C:\\Users\\gauri\\OneDrive\\Desktop\\Deep_Learning\\tfkenv\\Lib\\site-packages\\keras\\src\\layers\\convolutional\\base_conv.py:107: UserWarning: Do not pass an `input_shape`/`input_dim` argument to a layer. When using Sequential models, prefer using an `Input(shape)` object as the first layer in the model instead.\n",
      "  super().__init__(activity_regularizer=activity_regularizer, **kwargs)\n"
     ]
    },
    {
     "name": "stdout",
     "output_type": "stream",
     "text": [
      "Epoch 1/20\n",
      "\u001b[1m500/500\u001b[0m \u001b[32m━━━━━━━━━━━━━━━━━━━━\u001b[0m\u001b[37m\u001b[0m \u001b[1m55s\u001b[0m 101ms/step - accuracy: 0.3810 - loss: 15.2489 - val_accuracy: 0.3769 - val_loss: 2.6811\n",
      "Epoch 2/20\n",
      "\u001b[1m500/500\u001b[0m \u001b[32m━━━━━━━━━━━━━━━━━━━━\u001b[0m\u001b[37m\u001b[0m \u001b[1m50s\u001b[0m 100ms/step - accuracy: 0.5785 - loss: 1.9776 - val_accuracy: 0.6153 - val_loss: 1.7603\n",
      "Epoch 3/20\n",
      "\u001b[1m500/500\u001b[0m \u001b[32m━━━━━━━━━━━━━━━━━━━━\u001b[0m\u001b[37m\u001b[0m \u001b[1m51s\u001b[0m 103ms/step - accuracy: 0.6246 - loss: 1.7994 - val_accuracy: 0.6357 - val_loss: 1.7564\n",
      "Epoch 4/20\n",
      "\u001b[1m500/500\u001b[0m \u001b[32m━━━━━━━━━━━━━━━━━━━━\u001b[0m\u001b[37m\u001b[0m \u001b[1m1000s\u001b[0m 2s/step - accuracy: 0.6503 - loss: 1.7485 - val_accuracy: 0.6510 - val_loss: 1.7101\n",
      "Epoch 5/20\n",
      "\u001b[1m500/500\u001b[0m \u001b[32m━━━━━━━━━━━━━━━━━━━━\u001b[0m\u001b[37m\u001b[0m \u001b[1m47s\u001b[0m 94ms/step - accuracy: 0.6749 - loss: 1.6882 - val_accuracy: 0.6554 - val_loss: 1.7618\n",
      "Epoch 6/20\n",
      "\u001b[1m500/500\u001b[0m \u001b[32m━━━━━━━━━━━━━━━━━━━━\u001b[0m\u001b[37m\u001b[0m \u001b[1m47s\u001b[0m 93ms/step - accuracy: 0.6856 - loss: 1.6714 - val_accuracy: 0.6747 - val_loss: 1.7056\n",
      "Epoch 7/20\n",
      "\u001b[1m500/500\u001b[0m \u001b[32m━━━━━━━━━━━━━━━━━━━━\u001b[0m\u001b[37m\u001b[0m \u001b[1m47s\u001b[0m 93ms/step - accuracy: 0.6973 - loss: 1.6502 - val_accuracy: 0.6524 - val_loss: 1.7896\n",
      "Epoch 8/20\n",
      "\u001b[1m500/500\u001b[0m \u001b[32m━━━━━━━━━━━━━━━━━━━━\u001b[0m\u001b[37m\u001b[0m \u001b[1m49s\u001b[0m 97ms/step - accuracy: 0.7068 - loss: 1.6370 - val_accuracy: 0.7215 - val_loss: 1.6135\n",
      "Epoch 9/20\n",
      "\u001b[1m500/500\u001b[0m \u001b[32m━━━━━━━━━━━━━━━━━━━━\u001b[0m\u001b[37m\u001b[0m \u001b[1m49s\u001b[0m 99ms/step - accuracy: 0.7154 - loss: 1.6237 - val_accuracy: 0.7270 - val_loss: 1.6056\n",
      "Epoch 10/20\n",
      "\u001b[1m500/500\u001b[0m \u001b[32m━━━━━━━━━━━━━━━━━━━━\u001b[0m\u001b[37m\u001b[0m \u001b[1m51s\u001b[0m 101ms/step - accuracy: 0.7265 - loss: 1.5858 - val_accuracy: 0.7377 - val_loss: 1.5327\n",
      "Epoch 11/20\n",
      "\u001b[1m500/500\u001b[0m \u001b[32m━━━━━━━━━━━━━━━━━━━━\u001b[0m\u001b[37m\u001b[0m \u001b[1m50s\u001b[0m 100ms/step - accuracy: 0.7291 - loss: 1.5713 - val_accuracy: 0.7373 - val_loss: 1.5360\n",
      "Epoch 12/20\n",
      "\u001b[1m500/500\u001b[0m \u001b[32m━━━━━━━━━━━━━━━━━━━━\u001b[0m\u001b[37m\u001b[0m \u001b[1m50s\u001b[0m 100ms/step - accuracy: 0.7348 - loss: 1.5634 - val_accuracy: 0.7235 - val_loss: 1.6232\n",
      "Epoch 13/20\n",
      "\u001b[1m500/500\u001b[0m \u001b[32m━━━━━━━━━━━━━━━━━━━━\u001b[0m\u001b[37m\u001b[0m \u001b[1m50s\u001b[0m 100ms/step - accuracy: 0.7438 - loss: 1.5386 - val_accuracy: 0.7442 - val_loss: 1.5284\n",
      "Epoch 14/20\n",
      "\u001b[1m500/500\u001b[0m \u001b[32m━━━━━━━━━━━━━━━━━━━━\u001b[0m\u001b[37m\u001b[0m \u001b[1m50s\u001b[0m 100ms/step - accuracy: 0.7426 - loss: 1.5423 - val_accuracy: 0.7311 - val_loss: 1.5639\n",
      "Epoch 15/20\n",
      "\u001b[1m500/500\u001b[0m \u001b[32m━━━━━━━━━━━━━━━━━━━━\u001b[0m\u001b[37m\u001b[0m \u001b[1m50s\u001b[0m 99ms/step - accuracy: 0.7478 - loss: 1.5186 - val_accuracy: 0.7277 - val_loss: 1.6051\n",
      "Epoch 16/20\n",
      "\u001b[1m500/500\u001b[0m \u001b[32m━━━━━━━━━━━━━━━━━━━━\u001b[0m\u001b[37m\u001b[0m \u001b[1m50s\u001b[0m 101ms/step - accuracy: 0.7548 - loss: 1.5000 - val_accuracy: 0.7635 - val_loss: 1.4081\n",
      "Epoch 17/20\n",
      "\u001b[1m500/500\u001b[0m \u001b[32m━━━━━━━━━━━━━━━━━━━━\u001b[0m\u001b[37m\u001b[0m \u001b[1m55s\u001b[0m 110ms/step - accuracy: 0.7562 - loss: 1.4802 - val_accuracy: 0.7469 - val_loss: 1.5024\n",
      "Epoch 18/20\n",
      "\u001b[1m500/500\u001b[0m \u001b[32m━━━━━━━━━━━━━━━━━━━━\u001b[0m\u001b[37m\u001b[0m \u001b[1m53s\u001b[0m 106ms/step - accuracy: 0.7608 - loss: 1.4768 - val_accuracy: 0.7467 - val_loss: 1.5117\n",
      "Epoch 19/20\n",
      "\u001b[1m500/500\u001b[0m \u001b[32m━━━━━━━━━━━━━━━━━━━━\u001b[0m\u001b[37m\u001b[0m \u001b[1m52s\u001b[0m 104ms/step - accuracy: 0.7642 - loss: 1.4574 - val_accuracy: 0.7583 - val_loss: 1.4612\n",
      "Epoch 20/20\n",
      "\u001b[1m500/500\u001b[0m \u001b[32m━━━━━━━━━━━━━━━━━━━━\u001b[0m\u001b[37m\u001b[0m \u001b[1m52s\u001b[0m 104ms/step - accuracy: 0.7661 - loss: 1.4605 - val_accuracy: 0.7822 - val_loss: 1.4275\n"
     ]
    },
    {
     "data": {
      "text/plain": [
       "<keras.src.callbacks.history.History at 0x175a37d2e10>"
      ]
     },
     "execution_count": 17,
     "metadata": {},
     "output_type": "execute_result"
    }
   ],
   "source": [
    "cnn = models.Sequential( [\n",
    "\n",
    "      # Convolutional block 1\n",
    "    layers.Conv2D(filters=32, kernel_size=(3,3), activation='relu',padding ='same', input_shape =(32,32,3)),\n",
    "    layers.BatchNormalization(),\n",
    "\n",
    "    layers.Conv2D(filters=32, kernel_size=(3,3), activation='relu',padding ='same'),\n",
    "    layers.BatchNormalization(),\n",
    "    \n",
    "    layers.MaxPooling2D(pool_size=(2, 2)),\n",
    "    layers.Dropout(0.25),\n",
    "\n",
    "\n",
    "    \n",
    "      # Convolutional block 2\n",
    "    layers.Conv2D(filters=64, kernel_size=(3,3), activation='relu'),\n",
    "    layers.BatchNormalization(),\n",
    "\n",
    "    layers.Conv2D(filters=64, kernel_size=(3,3), activation='relu'),\n",
    "    layers.BatchNormalization(),\n",
    "            \n",
    "    layers.MaxPooling2D(pool_size=(2, 2)),\n",
    "    layers.Dropout(0.3),\n",
    "\n",
    "    \n",
    "\n",
    "    ### ANN network\n",
    "    layers.Flatten(),\n",
    "    layers.Dense(356,activation='relu',kernel_regularizer=L2(l2=0.1)),\n",
    "    layers.BatchNormalization(),\n",
    "    layers.Dropout(0.5),\n",
    "\n",
    "\n",
    "    # output layer\n",
    "    layers.Dense(10,activation='softmax')])\n",
    "\n",
    "\n",
    "cnn.compile(loss='sparse_categorical_crossentropy' , metrics=['accuracy'],\n",
    "            optimizer='adam'),\n",
    "\n",
    "cnn.fit(x_train,y_train, batch_size=100, epochs =20, validation_data=(x_test,y_test), \n",
    "        callbacks=EarlyStopping(monitor='val_loss', patience=5, restore_best_weights=True))"
   ]
  },
  {
   "cell_type": "code",
   "execution_count": 18,
   "id": "469ef1f5-2ebf-4a06-86d4-405bb976addb",
   "metadata": {},
   "outputs": [
    {
     "name": "stdout",
     "output_type": "stream",
     "text": [
      "\u001b[1m313/313\u001b[0m \u001b[32m━━━━━━━━━━━━━━━━━━━━\u001b[0m\u001b[37m\u001b[0m \u001b[1m3s\u001b[0m 8ms/step - accuracy: 0.7687 - loss: 1.4020\n"
     ]
    },
    {
     "data": {
      "text/plain": [
       "[1.408097743988037, 0.7634999752044678]"
      ]
     },
     "execution_count": 18,
     "metadata": {},
     "output_type": "execute_result"
    }
   ],
   "source": [
    "cnn.evaluate(x_test,y_test)"
   ]
  },
  {
   "cell_type": "code",
   "execution_count": 19,
   "id": "18513f09-2975-4915-975f-64c5eb36b268",
   "metadata": {},
   "outputs": [
    {
     "name": "stdout",
     "output_type": "stream",
     "text": [
      "\u001b[1m1563/1563\u001b[0m \u001b[32m━━━━━━━━━━━━━━━━━━━━\u001b[0m\u001b[37m\u001b[0m \u001b[1m12s\u001b[0m 8ms/step - accuracy: 0.7960 - loss: 1.3146\n"
     ]
    },
    {
     "data": {
      "text/plain": [
       "[1.3140028715133667, 0.7965800166130066]"
      ]
     },
     "execution_count": 19,
     "metadata": {},
     "output_type": "execute_result"
    }
   ],
   "source": [
    "cnn.evaluate(x_train,y_train)"
   ]
  },
  {
   "cell_type": "code",
   "execution_count": null,
   "id": "de24f8a7-54ee-407a-bcc7-81689bda0bc7",
   "metadata": {},
   "outputs": [],
   "source": [
    "\n",
    "        "
   ]
  },
  {
   "cell_type": "code",
   "execution_count": 23,
   "id": "93e8094e-8324-41ae-8873-edfa6e55a963",
   "metadata": {},
   "outputs": [
    {
     "name": "stdout",
     "output_type": "stream",
     "text": [
      "\u001b[1m313/313\u001b[0m \u001b[32m━━━━━━━━━━━━━━━━━━━━\u001b[0m\u001b[37m\u001b[0m \u001b[1m2s\u001b[0m 8ms/step\n"
     ]
    },
    {
     "data": {
      "text/plain": [
       "array([[6.5961183e-04, 2.3946059e-03, 9.2407299e-04, ..., 1.9033057e-04,\n",
       "        3.4785445e-03, 4.2555621e-03],\n",
       "       [9.6572301e-05, 4.7440812e-02, 7.9052023e-07, ..., 1.3957717e-07,\n",
       "        9.5126438e-01, 1.1824493e-03],\n",
       "       [1.3688192e-03, 1.4159684e-01, 2.1644184e-05, ..., 1.2665124e-05,\n",
       "        8.3740789e-01, 1.9244660e-02],\n",
       "       ...,\n",
       "       [1.2957536e-05, 7.1590803e-06, 1.6093942e-03, ..., 2.9698620e-03,\n",
       "        2.6076923e-05, 2.8226334e-05],\n",
       "       [1.5359312e-02, 9.7259778e-01, 3.4665812e-03, ..., 6.7885051e-04,\n",
       "        8.4328547e-04, 9.1241841e-04],\n",
       "       [4.5163881e-05, 1.8780085e-05, 8.4868906e-04, ..., 9.9393761e-01,\n",
       "        2.0769476e-06, 1.5396747e-05]], dtype=float32)"
      ]
     },
     "execution_count": 23,
     "metadata": {},
     "output_type": "execute_result"
    }
   ],
   "source": [
    "y_pd = cnn.predict(x_test)\n",
    "y_pd"
   ]
  },
  {
   "cell_type": "code",
   "execution_count": 35,
   "id": "deb8dc27-faa4-4614-93d3-039c256fcdf0",
   "metadata": {},
   "outputs": [
    {
     "data": {
      "text/plain": [
       "array([[3],\n",
       "       [8],\n",
       "       [8],\n",
       "       [0],\n",
       "       [6]], dtype=uint8)"
      ]
     },
     "execution_count": 35,
     "metadata": {},
     "output_type": "execute_result"
    }
   ],
   "source": [
    "y_test [:5]"
   ]
  },
  {
   "cell_type": "code",
   "execution_count": 34,
   "id": "95dee422-a0b8-4cf9-a9f3-1bc3137b377e",
   "metadata": {},
   "outputs": [
    {
     "data": {
      "text/plain": [
       "[np.int64(3), np.int64(8), np.int64(8), np.int64(8), np.int64(6)]"
      ]
     },
     "execution_count": 34,
     "metadata": {},
     "output_type": "execute_result"
    }
   ],
   "source": [
    "y_pd1 =[ np.argmax(i) for i in y_pd]\n",
    "y_pd1[:5]"
   ]
  },
  {
   "cell_type": "code",
   "execution_count": 26,
   "id": "ef332e52-2894-46b2-b60e-1701b8254673",
   "metadata": {},
   "outputs": [],
   "source": [
    "from sklearn.metrics import confusion_matrix, precision_score, recall_score"
   ]
  },
  {
   "cell_type": "code",
   "execution_count": 27,
   "id": "4466fc62-cbed-4af9-84c9-42e7a5a4252f",
   "metadata": {},
   "outputs": [
    {
     "data": {
      "text/plain": [
       "0.7635"
      ]
     },
     "execution_count": 27,
     "metadata": {},
     "output_type": "execute_result"
    }
   ],
   "source": [
    "precision_score(y_test,y_pd1,average='micro')"
   ]
  },
  {
   "cell_type": "code",
   "execution_count": 28,
   "id": "88cb368b-6499-44b7-850d-19053a463fd7",
   "metadata": {},
   "outputs": [
    {
     "data": {
      "text/plain": [
       "array([[776,  25,  24,  15,  24,   4,   7,  23,  53,  49],\n",
       "       [  4, 918,   0,   3,   3,   2,   1,   3,  14,  52],\n",
       "       [ 78,   7, 514,  53, 144,  83,  49,  50,  10,  12],\n",
       "       [ 14,   4,  34, 538,  66, 211,  27,  47,  26,  33],\n",
       "       [ 11,   2,  22,  43, 774,  31,  12,  95,   8,   2],\n",
       "       [  7,   4,  22, 114,  36, 748,   7,  55,   2,   5],\n",
       "       [ 10,   3,  23,  50,  92,  44, 757,  10,   6,   5],\n",
       "       [ 14,   5,  19,  19,  26,  53,   1, 845,   4,  14],\n",
       "       [ 58,  26,   0,   8,   3,   2,   1,   5, 848,  49],\n",
       "       [ 11,  44,   1,   4,   3,   1,   2,   6,  11, 917]])"
      ]
     },
     "execution_count": 28,
     "metadata": {},
     "output_type": "execute_result"
    }
   ],
   "source": [
    "confusion_matrix(y_test,y_pd1)"
   ]
  },
  {
   "cell_type": "code",
   "execution_count": 29,
   "id": "71464212-e1f5-4be3-86ed-ad295b4c99ba",
   "metadata": {},
   "outputs": [
    {
     "data": {
      "text/plain": [
       "0.7635"
      ]
     },
     "execution_count": 29,
     "metadata": {},
     "output_type": "execute_result"
    }
   ],
   "source": [
    "recall_score(y_test,y_pd1,average='micro')"
   ]
  },
  {
   "cell_type": "code",
   "execution_count": null,
   "id": "10dd2228-ed2c-43ae-9cf5-446815332bf0",
   "metadata": {},
   "outputs": [],
   "source": []
  }
 ],
 "metadata": {
  "kernelspec": {
   "display_name": "Python 3 (ipykernel)",
   "language": "python",
   "name": "python3"
  },
  "language_info": {
   "codemirror_mode": {
    "name": "ipython",
    "version": 3
   },
   "file_extension": ".py",
   "mimetype": "text/x-python",
   "name": "python",
   "nbconvert_exporter": "python",
   "pygments_lexer": "ipython3",
   "version": "3.11.9"
  }
 },
 "nbformat": 4,
 "nbformat_minor": 5
}
